{
 "cells": [
  {
   "cell_type": "code",
   "execution_count": 2,
   "id": "4b4c6f1b",
   "metadata": {},
   "outputs": [
    {
     "name": "stdout",
     "output_type": "stream",
     "text": [
      "✅ Combined dataset shape: (43020, 687)\n",
      "✅ Columns: ['hour_ts', 'start_station_name', 'start_station_id', 'ride_count', 'hour', 'hour_sin', 'hour_cos', 'day_of_week', 'is_holiday_or_weekend', 'month', 'is_peak_hour', 'day_of_year', 'time_of_day', 'ride_count_roll3', 'target_ride_count', 'ride_count_lag_1', 'ride_count_lag_2', 'ride_count_lag_3', 'ride_count_lag_4', 'ride_count_lag_5', 'ride_count_lag_6', 'ride_count_lag_7', 'ride_count_lag_8', 'ride_count_lag_9', 'ride_count_lag_10', 'ride_count_lag_11', 'ride_count_lag_12', 'ride_count_lag_13', 'ride_count_lag_14', 'ride_count_lag_15', 'ride_count_lag_16', 'ride_count_lag_17', 'ride_count_lag_18', 'ride_count_lag_19', 'ride_count_lag_20', 'ride_count_lag_21', 'ride_count_lag_22', 'ride_count_lag_23', 'ride_count_lag_24', 'ride_count_lag_25', 'ride_count_lag_26', 'ride_count_lag_27', 'ride_count_lag_28', 'ride_count_lag_29', 'ride_count_lag_30', 'ride_count_lag_31', 'ride_count_lag_32', 'ride_count_lag_33', 'ride_count_lag_34', 'ride_count_lag_35', 'ride_count_lag_36', 'ride_count_lag_37', 'ride_count_lag_38', 'ride_count_lag_39', 'ride_count_lag_40', 'ride_count_lag_41', 'ride_count_lag_42', 'ride_count_lag_43', 'ride_count_lag_44', 'ride_count_lag_45', 'ride_count_lag_46', 'ride_count_lag_47', 'ride_count_lag_48', 'ride_count_lag_49', 'ride_count_lag_50', 'ride_count_lag_51', 'ride_count_lag_52', 'ride_count_lag_53', 'ride_count_lag_54', 'ride_count_lag_55', 'ride_count_lag_56', 'ride_count_lag_57', 'ride_count_lag_58', 'ride_count_lag_59', 'ride_count_lag_60', 'ride_count_lag_61', 'ride_count_lag_62', 'ride_count_lag_63', 'ride_count_lag_64', 'ride_count_lag_65', 'ride_count_lag_66', 'ride_count_lag_67', 'ride_count_lag_68', 'ride_count_lag_69', 'ride_count_lag_70', 'ride_count_lag_71', 'ride_count_lag_72', 'ride_count_lag_73', 'ride_count_lag_74', 'ride_count_lag_75', 'ride_count_lag_76', 'ride_count_lag_77', 'ride_count_lag_78', 'ride_count_lag_79', 'ride_count_lag_80', 'ride_count_lag_81', 'ride_count_lag_82', 'ride_count_lag_83', 'ride_count_lag_84', 'ride_count_lag_85', 'ride_count_lag_86', 'ride_count_lag_87', 'ride_count_lag_88', 'ride_count_lag_89', 'ride_count_lag_90', 'ride_count_lag_91', 'ride_count_lag_92', 'ride_count_lag_93', 'ride_count_lag_94', 'ride_count_lag_95', 'ride_count_lag_96', 'ride_count_lag_97', 'ride_count_lag_98', 'ride_count_lag_99', 'ride_count_lag_100', 'ride_count_lag_101', 'ride_count_lag_102', 'ride_count_lag_103', 'ride_count_lag_104', 'ride_count_lag_105', 'ride_count_lag_106', 'ride_count_lag_107', 'ride_count_lag_108', 'ride_count_lag_109', 'ride_count_lag_110', 'ride_count_lag_111', 'ride_count_lag_112', 'ride_count_lag_113', 'ride_count_lag_114', 'ride_count_lag_115', 'ride_count_lag_116', 'ride_count_lag_117', 'ride_count_lag_118', 'ride_count_lag_119', 'ride_count_lag_120', 'ride_count_lag_121', 'ride_count_lag_122', 'ride_count_lag_123', 'ride_count_lag_124', 'ride_count_lag_125', 'ride_count_lag_126', 'ride_count_lag_127', 'ride_count_lag_128', 'ride_count_lag_129', 'ride_count_lag_130', 'ride_count_lag_131', 'ride_count_lag_132', 'ride_count_lag_133', 'ride_count_lag_134', 'ride_count_lag_135', 'ride_count_lag_136', 'ride_count_lag_137', 'ride_count_lag_138', 'ride_count_lag_139', 'ride_count_lag_140', 'ride_count_lag_141', 'ride_count_lag_142', 'ride_count_lag_143', 'ride_count_lag_144', 'ride_count_lag_145', 'ride_count_lag_146', 'ride_count_lag_147', 'ride_count_lag_148', 'ride_count_lag_149', 'ride_count_lag_150', 'ride_count_lag_151', 'ride_count_lag_152', 'ride_count_lag_153', 'ride_count_lag_154', 'ride_count_lag_155', 'ride_count_lag_156', 'ride_count_lag_157', 'ride_count_lag_158', 'ride_count_lag_159', 'ride_count_lag_160', 'ride_count_lag_161', 'ride_count_lag_162', 'ride_count_lag_163', 'ride_count_lag_164', 'ride_count_lag_165', 'ride_count_lag_166', 'ride_count_lag_167', 'ride_count_lag_168', 'ride_count_lag_169', 'ride_count_lag_170', 'ride_count_lag_171', 'ride_count_lag_172', 'ride_count_lag_173', 'ride_count_lag_174', 'ride_count_lag_175', 'ride_count_lag_176', 'ride_count_lag_177', 'ride_count_lag_178', 'ride_count_lag_179', 'ride_count_lag_180', 'ride_count_lag_181', 'ride_count_lag_182', 'ride_count_lag_183', 'ride_count_lag_184', 'ride_count_lag_185', 'ride_count_lag_186', 'ride_count_lag_187', 'ride_count_lag_188', 'ride_count_lag_189', 'ride_count_lag_190', 'ride_count_lag_191', 'ride_count_lag_192', 'ride_count_lag_193', 'ride_count_lag_194', 'ride_count_lag_195', 'ride_count_lag_196', 'ride_count_lag_197', 'ride_count_lag_198', 'ride_count_lag_199', 'ride_count_lag_200', 'ride_count_lag_201', 'ride_count_lag_202', 'ride_count_lag_203', 'ride_count_lag_204', 'ride_count_lag_205', 'ride_count_lag_206', 'ride_count_lag_207', 'ride_count_lag_208', 'ride_count_lag_209', 'ride_count_lag_210', 'ride_count_lag_211', 'ride_count_lag_212', 'ride_count_lag_213', 'ride_count_lag_214', 'ride_count_lag_215', 'ride_count_lag_216', 'ride_count_lag_217', 'ride_count_lag_218', 'ride_count_lag_219', 'ride_count_lag_220', 'ride_count_lag_221', 'ride_count_lag_222', 'ride_count_lag_223', 'ride_count_lag_224', 'ride_count_lag_225', 'ride_count_lag_226', 'ride_count_lag_227', 'ride_count_lag_228', 'ride_count_lag_229', 'ride_count_lag_230', 'ride_count_lag_231', 'ride_count_lag_232', 'ride_count_lag_233', 'ride_count_lag_234', 'ride_count_lag_235', 'ride_count_lag_236', 'ride_count_lag_237', 'ride_count_lag_238', 'ride_count_lag_239', 'ride_count_lag_240', 'ride_count_lag_241', 'ride_count_lag_242', 'ride_count_lag_243', 'ride_count_lag_244', 'ride_count_lag_245', 'ride_count_lag_246', 'ride_count_lag_247', 'ride_count_lag_248', 'ride_count_lag_249', 'ride_count_lag_250', 'ride_count_lag_251', 'ride_count_lag_252', 'ride_count_lag_253', 'ride_count_lag_254', 'ride_count_lag_255', 'ride_count_lag_256', 'ride_count_lag_257', 'ride_count_lag_258', 'ride_count_lag_259', 'ride_count_lag_260', 'ride_count_lag_261', 'ride_count_lag_262', 'ride_count_lag_263', 'ride_count_lag_264', 'ride_count_lag_265', 'ride_count_lag_266', 'ride_count_lag_267', 'ride_count_lag_268', 'ride_count_lag_269', 'ride_count_lag_270', 'ride_count_lag_271', 'ride_count_lag_272', 'ride_count_lag_273', 'ride_count_lag_274', 'ride_count_lag_275', 'ride_count_lag_276', 'ride_count_lag_277', 'ride_count_lag_278', 'ride_count_lag_279', 'ride_count_lag_280', 'ride_count_lag_281', 'ride_count_lag_282', 'ride_count_lag_283', 'ride_count_lag_284', 'ride_count_lag_285', 'ride_count_lag_286', 'ride_count_lag_287', 'ride_count_lag_288', 'ride_count_lag_289', 'ride_count_lag_290', 'ride_count_lag_291', 'ride_count_lag_292', 'ride_count_lag_293', 'ride_count_lag_294', 'ride_count_lag_295', 'ride_count_lag_296', 'ride_count_lag_297', 'ride_count_lag_298', 'ride_count_lag_299', 'ride_count_lag_300', 'ride_count_lag_301', 'ride_count_lag_302', 'ride_count_lag_303', 'ride_count_lag_304', 'ride_count_lag_305', 'ride_count_lag_306', 'ride_count_lag_307', 'ride_count_lag_308', 'ride_count_lag_309', 'ride_count_lag_310', 'ride_count_lag_311', 'ride_count_lag_312', 'ride_count_lag_313', 'ride_count_lag_314', 'ride_count_lag_315', 'ride_count_lag_316', 'ride_count_lag_317', 'ride_count_lag_318', 'ride_count_lag_319', 'ride_count_lag_320', 'ride_count_lag_321', 'ride_count_lag_322', 'ride_count_lag_323', 'ride_count_lag_324', 'ride_count_lag_325', 'ride_count_lag_326', 'ride_count_lag_327', 'ride_count_lag_328', 'ride_count_lag_329', 'ride_count_lag_330', 'ride_count_lag_331', 'ride_count_lag_332', 'ride_count_lag_333', 'ride_count_lag_334', 'ride_count_lag_335', 'ride_count_lag_336', 'ride_count_lag_337', 'ride_count_lag_338', 'ride_count_lag_339', 'ride_count_lag_340', 'ride_count_lag_341', 'ride_count_lag_342', 'ride_count_lag_343', 'ride_count_lag_344', 'ride_count_lag_345', 'ride_count_lag_346', 'ride_count_lag_347', 'ride_count_lag_348', 'ride_count_lag_349', 'ride_count_lag_350', 'ride_count_lag_351', 'ride_count_lag_352', 'ride_count_lag_353', 'ride_count_lag_354', 'ride_count_lag_355', 'ride_count_lag_356', 'ride_count_lag_357', 'ride_count_lag_358', 'ride_count_lag_359', 'ride_count_lag_360', 'ride_count_lag_361', 'ride_count_lag_362', 'ride_count_lag_363', 'ride_count_lag_364', 'ride_count_lag_365', 'ride_count_lag_366', 'ride_count_lag_367', 'ride_count_lag_368', 'ride_count_lag_369', 'ride_count_lag_370', 'ride_count_lag_371', 'ride_count_lag_372', 'ride_count_lag_373', 'ride_count_lag_374', 'ride_count_lag_375', 'ride_count_lag_376', 'ride_count_lag_377', 'ride_count_lag_378', 'ride_count_lag_379', 'ride_count_lag_380', 'ride_count_lag_381', 'ride_count_lag_382', 'ride_count_lag_383', 'ride_count_lag_384', 'ride_count_lag_385', 'ride_count_lag_386', 'ride_count_lag_387', 'ride_count_lag_388', 'ride_count_lag_389', 'ride_count_lag_390', 'ride_count_lag_391', 'ride_count_lag_392', 'ride_count_lag_393', 'ride_count_lag_394', 'ride_count_lag_395', 'ride_count_lag_396', 'ride_count_lag_397', 'ride_count_lag_398', 'ride_count_lag_399', 'ride_count_lag_400', 'ride_count_lag_401', 'ride_count_lag_402', 'ride_count_lag_403', 'ride_count_lag_404', 'ride_count_lag_405', 'ride_count_lag_406', 'ride_count_lag_407', 'ride_count_lag_408', 'ride_count_lag_409', 'ride_count_lag_410', 'ride_count_lag_411', 'ride_count_lag_412', 'ride_count_lag_413', 'ride_count_lag_414', 'ride_count_lag_415', 'ride_count_lag_416', 'ride_count_lag_417', 'ride_count_lag_418', 'ride_count_lag_419', 'ride_count_lag_420', 'ride_count_lag_421', 'ride_count_lag_422', 'ride_count_lag_423', 'ride_count_lag_424', 'ride_count_lag_425', 'ride_count_lag_426', 'ride_count_lag_427', 'ride_count_lag_428', 'ride_count_lag_429', 'ride_count_lag_430', 'ride_count_lag_431', 'ride_count_lag_432', 'ride_count_lag_433', 'ride_count_lag_434', 'ride_count_lag_435', 'ride_count_lag_436', 'ride_count_lag_437', 'ride_count_lag_438', 'ride_count_lag_439', 'ride_count_lag_440', 'ride_count_lag_441', 'ride_count_lag_442', 'ride_count_lag_443', 'ride_count_lag_444', 'ride_count_lag_445', 'ride_count_lag_446', 'ride_count_lag_447', 'ride_count_lag_448', 'ride_count_lag_449', 'ride_count_lag_450', 'ride_count_lag_451', 'ride_count_lag_452', 'ride_count_lag_453', 'ride_count_lag_454', 'ride_count_lag_455', 'ride_count_lag_456', 'ride_count_lag_457', 'ride_count_lag_458', 'ride_count_lag_459', 'ride_count_lag_460', 'ride_count_lag_461', 'ride_count_lag_462', 'ride_count_lag_463', 'ride_count_lag_464', 'ride_count_lag_465', 'ride_count_lag_466', 'ride_count_lag_467', 'ride_count_lag_468', 'ride_count_lag_469', 'ride_count_lag_470', 'ride_count_lag_471', 'ride_count_lag_472', 'ride_count_lag_473', 'ride_count_lag_474', 'ride_count_lag_475', 'ride_count_lag_476', 'ride_count_lag_477', 'ride_count_lag_478', 'ride_count_lag_479', 'ride_count_lag_480', 'ride_count_lag_481', 'ride_count_lag_482', 'ride_count_lag_483', 'ride_count_lag_484', 'ride_count_lag_485', 'ride_count_lag_486', 'ride_count_lag_487', 'ride_count_lag_488', 'ride_count_lag_489', 'ride_count_lag_490', 'ride_count_lag_491', 'ride_count_lag_492', 'ride_count_lag_493', 'ride_count_lag_494', 'ride_count_lag_495', 'ride_count_lag_496', 'ride_count_lag_497', 'ride_count_lag_498', 'ride_count_lag_499', 'ride_count_lag_500', 'ride_count_lag_501', 'ride_count_lag_502', 'ride_count_lag_503', 'ride_count_lag_504', 'ride_count_lag_505', 'ride_count_lag_506', 'ride_count_lag_507', 'ride_count_lag_508', 'ride_count_lag_509', 'ride_count_lag_510', 'ride_count_lag_511', 'ride_count_lag_512', 'ride_count_lag_513', 'ride_count_lag_514', 'ride_count_lag_515', 'ride_count_lag_516', 'ride_count_lag_517', 'ride_count_lag_518', 'ride_count_lag_519', 'ride_count_lag_520', 'ride_count_lag_521', 'ride_count_lag_522', 'ride_count_lag_523', 'ride_count_lag_524', 'ride_count_lag_525', 'ride_count_lag_526', 'ride_count_lag_527', 'ride_count_lag_528', 'ride_count_lag_529', 'ride_count_lag_530', 'ride_count_lag_531', 'ride_count_lag_532', 'ride_count_lag_533', 'ride_count_lag_534', 'ride_count_lag_535', 'ride_count_lag_536', 'ride_count_lag_537', 'ride_count_lag_538', 'ride_count_lag_539', 'ride_count_lag_540', 'ride_count_lag_541', 'ride_count_lag_542', 'ride_count_lag_543', 'ride_count_lag_544', 'ride_count_lag_545', 'ride_count_lag_546', 'ride_count_lag_547', 'ride_count_lag_548', 'ride_count_lag_549', 'ride_count_lag_550', 'ride_count_lag_551', 'ride_count_lag_552', 'ride_count_lag_553', 'ride_count_lag_554', 'ride_count_lag_555', 'ride_count_lag_556', 'ride_count_lag_557', 'ride_count_lag_558', 'ride_count_lag_559', 'ride_count_lag_560', 'ride_count_lag_561', 'ride_count_lag_562', 'ride_count_lag_563', 'ride_count_lag_564', 'ride_count_lag_565', 'ride_count_lag_566', 'ride_count_lag_567', 'ride_count_lag_568', 'ride_count_lag_569', 'ride_count_lag_570', 'ride_count_lag_571', 'ride_count_lag_572', 'ride_count_lag_573', 'ride_count_lag_574', 'ride_count_lag_575', 'ride_count_lag_576', 'ride_count_lag_577', 'ride_count_lag_578', 'ride_count_lag_579', 'ride_count_lag_580', 'ride_count_lag_581', 'ride_count_lag_582', 'ride_count_lag_583', 'ride_count_lag_584', 'ride_count_lag_585', 'ride_count_lag_586', 'ride_count_lag_587', 'ride_count_lag_588', 'ride_count_lag_589', 'ride_count_lag_590', 'ride_count_lag_591', 'ride_count_lag_592', 'ride_count_lag_593', 'ride_count_lag_594', 'ride_count_lag_595', 'ride_count_lag_596', 'ride_count_lag_597', 'ride_count_lag_598', 'ride_count_lag_599', 'ride_count_lag_600', 'ride_count_lag_601', 'ride_count_lag_602', 'ride_count_lag_603', 'ride_count_lag_604', 'ride_count_lag_605', 'ride_count_lag_606', 'ride_count_lag_607', 'ride_count_lag_608', 'ride_count_lag_609', 'ride_count_lag_610', 'ride_count_lag_611', 'ride_count_lag_612', 'ride_count_lag_613', 'ride_count_lag_614', 'ride_count_lag_615', 'ride_count_lag_616', 'ride_count_lag_617', 'ride_count_lag_618', 'ride_count_lag_619', 'ride_count_lag_620', 'ride_count_lag_621', 'ride_count_lag_622', 'ride_count_lag_623', 'ride_count_lag_624', 'ride_count_lag_625', 'ride_count_lag_626', 'ride_count_lag_627', 'ride_count_lag_628', 'ride_count_lag_629', 'ride_count_lag_630', 'ride_count_lag_631', 'ride_count_lag_632', 'ride_count_lag_633', 'ride_count_lag_634', 'ride_count_lag_635', 'ride_count_lag_636', 'ride_count_lag_637', 'ride_count_lag_638', 'ride_count_lag_639', 'ride_count_lag_640', 'ride_count_lag_641', 'ride_count_lag_642', 'ride_count_lag_643', 'ride_count_lag_644', 'ride_count_lag_645', 'ride_count_lag_646', 'ride_count_lag_647', 'ride_count_lag_648', 'ride_count_lag_649', 'ride_count_lag_650', 'ride_count_lag_651', 'ride_count_lag_652', 'ride_count_lag_653', 'ride_count_lag_654', 'ride_count_lag_655', 'ride_count_lag_656', 'ride_count_lag_657', 'ride_count_lag_658', 'ride_count_lag_659', 'ride_count_lag_660', 'ride_count_lag_661', 'ride_count_lag_662', 'ride_count_lag_663', 'ride_count_lag_664', 'ride_count_lag_665', 'ride_count_lag_666', 'ride_count_lag_667', 'ride_count_lag_668', 'ride_count_lag_669', 'ride_count_lag_670', 'ride_count_lag_671', 'ride_count_lag_672']\n",
      "✅ Manual temporal features added!\n",
      "✅ Split complete: 39333 train samples, 3687 test samples\n",
      "✅ Final X_train shape: (39333, 688)\n",
      "✅ Final X_test shape: (3687, 688)\n",
      "🚀 Training Optimized lgbmhyper model...\n",
      "[LightGBM] [Info] Auto-choosing col-wise multi-threading, the overhead of testing was 0.227708 seconds.\n",
      "You can set `force_col_wise=true` to remove the overhead.\n",
      "[LightGBM] [Info] Total Bins 75390\n",
      "[LightGBM] [Info] Number of data points in the train set: 39333, number of used features: 688\n",
      "[LightGBM] [Info] Start training from score 17.168586\n",
      "Training until validation scores don't improve for 100 rounds\n",
      "[100]\tvalid_0's l1: 4.44655\tvalid_0's l2: 32.1926\n",
      "[200]\tvalid_0's l1: 3.56237\tvalid_0's l2: 25.2009\n",
      "[300]\tvalid_0's l1: 3.37976\tvalid_0's l2: 23.5323\n",
      "[400]\tvalid_0's l1: 3.34472\tvalid_0's l2: 23.1674\n",
      "[500]\tvalid_0's l1: 3.31145\tvalid_0's l2: 22.764\n",
      "[600]\tvalid_0's l1: 3.29186\tvalid_0's l2: 22.532\n",
      "[700]\tvalid_0's l1: 3.27481\tvalid_0's l2: 22.3024\n",
      "[800]\tvalid_0's l1: 3.26377\tvalid_0's l2: 22.1625\n",
      "[900]\tvalid_0's l1: 3.25486\tvalid_0's l2: 22.0389\n",
      "[1000]\tvalid_0's l1: 3.24023\tvalid_0's l2: 21.8692\n",
      "[1100]\tvalid_0's l1: 3.23156\tvalid_0's l2: 21.7465\n",
      "[1200]\tvalid_0's l1: 3.21869\tvalid_0's l2: 21.588\n",
      "[1300]\tvalid_0's l1: 3.21475\tvalid_0's l2: 21.5311\n",
      "[1400]\tvalid_0's l1: 3.20508\tvalid_0's l2: 21.3854\n",
      "[1500]\tvalid_0's l1: 3.19862\tvalid_0's l2: 21.286\n",
      "[1600]\tvalid_0's l1: 3.19551\tvalid_0's l2: 21.226\n",
      "[1700]\tvalid_0's l1: 3.19055\tvalid_0's l2: 21.1612\n",
      "[1800]\tvalid_0's l1: 3.18749\tvalid_0's l2: 21.1127\n",
      "[1900]\tvalid_0's l1: 3.18686\tvalid_0's l2: 21.0869\n",
      "[2000]\tvalid_0's l1: 3.18634\tvalid_0's l2: 21.0829\n",
      "[2100]\tvalid_0's l1: 3.18609\tvalid_0's l2: 21.0776\n",
      "Early stopping, best iteration is:\n",
      "[2051]\tvalid_0's l1: 3.18486\tvalid_0's l2: 21.0722\n",
      "✅ lgbmhyper MAE (Optimized): 3.18\n",
      "✅ lgbmhyper RMSE (Optimized): 4.59\n"
     ]
    },
    {
     "name": "stderr",
     "output_type": "stream",
     "text": [
      "C:\\Users\\MD\\AppData\\Local\\Temp\\ipykernel_10440\\1868303255.py:120: UserWarning: Glyph 128640 (\\N{ROCKET}) missing from font(s) DejaVu Sans.\n",
      "  plt.tight_layout()\n",
      "C:\\Users\\MD\\AppData\\Roaming\\Python\\Python312\\site-packages\\IPython\\core\\pylabtools.py:170: UserWarning: Glyph 128640 (\\N{ROCKET}) missing from font(s) DejaVu Sans.\n",
      "  fig.canvas.print_figure(bytes_io, **kw)\n"
     ]
    },
    {
     "data": {
      "image/png": "[encoded data removed]",
      "text/plain": [
       "<Figure size 1200x700 with 1 Axes>"
      ]
     },
     "metadata": {},
     "output_type": "display_data"
    },
    {
     "name": "stdout",
     "output_type": "stream",
     "text": [
      "✅ Completed lgbmhyper Optimized Training!\n"
     ]
    }
   ],
   "source": [
    "# ==============================\n",
    "# 📦 Imports\n",
    "# ==============================\n",
    "import pandas as pd\n",
    "import numpy as np\n",
    "import matplotlib.pyplot as plt\n",
    "import seaborn as sns\n",
    "from pathlib import Path\n",
    "import os\n",
    "import sys\n",
    "\n",
    "from lightgbm import LGBMRegressor, early_stopping, log_evaluation  # ✅ Corrected\n",
    "from sklearn.metrics import mean_absolute_error, mean_squared_error\n",
    "from datetime import datetime\n",
    "\n",
    "sys.path.append(os.path.abspath(os.path.join(os.getcwd(), \"..\")))\n",
    "\n",
    "from src.utils import split_time_series_data\n",
    "\n",
    "# ==============================\n",
    "# 📂 Load and Prepare Data\n",
    "# ==============================\n",
    "\n",
    "final_features_path = Path(\"C:/Users/MD/Desktop/citi/data/processed/final_features\")\n",
    "\n",
    "df_2024 = pd.read_parquet(final_features_path / \"rides_citibike_final_2024_with_lags.parquet\")\n",
    "\n",
    "df = pd.concat([df_2024]).reset_index(drop=True)\n",
    "\n",
    "print(f\"✅ Combined dataset shape: {df.shape}\")\n",
    "print(f\"✅ Columns: {df.columns.tolist()}\")\n",
    "\n",
    "# ==============================\n",
    "# ✨ Manual Temporal Feature Engineering\n",
    "# ==============================\n",
    "\n",
    "df[\"day\"] = df[\"hour_ts\"].dt.day\n",
    "df[\"week_of_year\"] = df[\"hour_ts\"].dt.isocalendar().week\n",
    "df[\"quarter\"] = df[\"hour_ts\"].dt.quarter\n",
    "df[\"is_start_of_month\"] = (df[\"hour_ts\"].dt.is_month_start).astype(int)\n",
    "df[\"is_end_of_month\"] = (df[\"hour_ts\"].dt.is_month_end).astype(int)\n",
    "\n",
    "print(\"✅ Manual temporal features added!\")\n",
    "\n",
    "# ==============================\n",
    "# ✂️ Train-Test Split\n",
    "# ==============================\n",
    "\n",
    "X_train, y_train, X_test, y_test = split_time_series_data(\n",
    "    df,\n",
    "    cutoff_date=datetime(2025, 1, 1),\n",
    "    target_column=\"ride_count\"\n",
    ")\n",
    "\n",
    "cols_to_drop = [\"hour_ts\", \"start_station_name\", \"time_of_day\"]\n",
    "X_train = X_train.drop(columns=cols_to_drop)\n",
    "X_test = X_test.drop(columns=cols_to_drop)\n",
    "\n",
    "print(f\"✅ Final X_train shape: {X_train.shape}\")\n",
    "print(f\"✅ Final X_test shape: {X_test.shape}\")\n",
    "\n",
    "# ==============================\n",
    "# 🚀 Train Optimized LightGBM\n",
    "# ==============================\n",
    "\n",
    "lgbmhyper = LGBMRegressor(\n",
    "    objective=\"regression\",\n",
    "    n_estimators=5000,         # Train longer\n",
    "    learning_rate=0.02,        # Slower learning\n",
    "    num_leaves=64,\n",
    "    min_child_samples=20,\n",
    "    subsample=0.8,\n",
    "    colsample_bytree=0.8,\n",
    "    random_state=42,\n",
    "    n_jobs=-1\n",
    ")\n",
    "\n",
    "print(\"🚀 Training Optimized lgbmhyper model...\")\n",
    "\n",
    "lgbmhyper.fit(\n",
    "    X_train,\n",
    "    y_train,\n",
    "    eval_set=[(X_test, y_test)],\n",
    "    eval_metric=\"l1\",  # 'l1' = MAE\n",
    "    callbacks=[\n",
    "        early_stopping(stopping_rounds=100),     # ✅ Correct LightGBM callback\n",
    "        log_evaluation(period=100)               # ✅ Correct LightGBM callback\n",
    "    ]\n",
    ")\n",
    "\n",
    "# 🔮 Predict\n",
    "y_pred_lgbm = lgbmhyper.predict(X_test)\n",
    "\n",
    "# ==============================\n",
    "# 📊 Metrics\n",
    "# ==============================\n",
    "\n",
    "mae = mean_absolute_error(y_test, y_pred_lgbm)\n",
    "rmse = mean_squared_error(y_test, y_pred_lgbm) ** 0.5\n",
    "\n",
    "print(f\"✅ lgbmhyper MAE (Optimized): {mae:.2f}\")\n",
    "print(f\"✅ lgbmhyper RMSE (Optimized): {rmse:.2f}\")\n",
    "\n",
    "# ==============================\n",
    "# 📈 Feature Importances\n",
    "# ==============================\n",
    "\n",
    "feature_importance_df = pd.DataFrame({\n",
    "    \"Feature\": X_train.columns,\n",
    "    \"Importance\": lgbmhyper.feature_importances_\n",
    "}).sort_values(by=\"Importance\", ascending=False)\n",
    "\n",
    "# Plot\n",
    "plt.figure(figsize=(12, 7))\n",
    "sns.barplot(x=\"Importance\", y=\"Feature\", data=feature_importance_df.head(15))\n",
    "plt.title(\"🚀 Top 15 Feature Importances (lgbmhyper Optimized)\", fontsize=16)\n",
    "plt.xlabel(\"Importance Score\")\n",
    "plt.ylabel(\"Feature Name\")\n",
    "plt.grid(True)\n",
    "plt.tight_layout()\n",
    "plt.show()\n",
    "\n",
    "print(\"✅ Completed lgbmhyper Optimized Training!\")\n"
   ]
  },
  {
   "cell_type": "code",
   "execution_count": 3,
   "id": "f93a3583-f5c0-48f0-bc32-6236fac08fd2",
   "metadata": {},
   "outputs": [
    {
     "data": {
      "text/html": [
       "<pre style=\"white-space:pre;overflow-x:auto;line-height:normal;font-family:Menlo,'DejaVu Sans Mono',consolas,'Courier New',monospace\">Accessing as duddukuntamaneesh\n",
       "</pre>\n"
      ],
      "text/plain": [
       "Accessing as duddukuntamaneesh\n"
      ]
     },
     "metadata": {},
     "output_type": "display_data"
    },
    {
     "data": {
      "text/html": [
       "<pre style=\"white-space:pre;overflow-x:auto;line-height:normal;font-family:Menlo,'DejaVu Sans Mono',consolas,'Courier New',monospace\">Initialized MLflow to track repo <span style=\"color: #008000; text-decoration-color: #008000\">\"duddukuntamaneesh/citi\"</span>\n",
       "</pre>\n"
      ],
      "text/plain": [
       "Initialized MLflow to track repo \u001b[32m\"duddukuntamaneesh/citi\"\u001b[0m\n"
      ]
     },
     "metadata": {},
     "output_type": "display_data"
    },
    {
     "data": {
      "text/html": [
       "<pre style=\"white-space:pre;overflow-x:auto;line-height:normal;font-family:Menlo,'DejaVu Sans Mono',consolas,'Courier New',monospace\">Repository duddukuntamaneesh/citi initialized!\n",
       "</pre>\n"
      ],
      "text/plain": [
       "Repository duddukuntamaneesh/citi initialized!\n"
      ]
     },
     "metadata": {},
     "output_type": "display_data"
    },
    {
     "name": "stdout",
     "output_type": "stream",
     "text": [
      "✅ Optimized LightGBM MAE and RMSE logged to DagsHub successfully!\n",
      "🏃 View run LGM_Hyper at: https://dagshub.com/duddukuntamaneesh/citi.mlflow/#/experiments/0/runs/13f5829154c249d1843e3057d22c1ba6\n",
      "🧪 View experiment at: https://dagshub.com/duddukuntamaneesh/citi.mlflow/#/experiments/0\n"
     ]
    }
   ],
   "source": [
    "import mlflow\n",
    "import dagshub\n",
    "from dotenv import load_dotenv\n",
    "\n",
    "# 🛠 Load environment variables\n",
    "load_dotenv()\n",
    "\n",
    "# 🛠 Initialize DagsHub MLflow connection (ONLY ONCE per session)\n",
    "dagshub.init(repo_owner=\"duddukuntamaneesh\", repo_name=\"citi\", mlflow=True)\n",
    "\n",
    "# 🧠 Start MLflow run to log Optimized LightGBM metrics\n",
    "with mlflow.start_run(run_name=\"LGM_Hyper\"):\n",
    "    mlflow.log_metric(\"MAE\", mae)\n",
    "    mlflow.log_metric(\"RMSE\", rmse)\n",
    "    print(\"✅ Optimized LightGBM MAE and RMSE logged to DagsHub successfully!\")\n"
   ]
  },
  {
   "cell_type": "code",
   "execution_count": 4,
   "id": "db67adcb",
   "metadata": {},
   "outputs": [
    {
     "name": "stdout",
     "output_type": "stream",
     "text": [
      "🚀 Training LightGBM without PCA...\n",
      "[LightGBM] [Info] Auto-choosing col-wise multi-threading, the overhead of testing was 0.219804 seconds.\n",
      "You can set `force_col_wise=true` to remove the overhead.\n",
      "[LightGBM] [Info] Total Bins 75390\n",
      "[LightGBM] [Info] Number of data points in the train set: 39333, number of used features: 688\n",
      "[LightGBM] [Info] Start training from score 17.168586\n",
      "[LightGBM] [Warning] No further splits with positive gain, best gain: -inf\n",
      "[LightGBM] [Warning] No further splits with positive gain, best gain: -inf\n",
      "[LightGBM] [Warning] No further splits with positive gain, best gain: -inf\n",
      "[LightGBM] [Warning] No further splits with positive gain, best gain: -inf\n",
      "[LightGBM] [Warning] No further splits with positive gain, best gain: -inf\n",
      "[LightGBM] [Warning] No further splits with positive gain, best gain: -inf\n",
      "[LightGBM] [Warning] No further splits with positive gain, best gain: -inf\n",
      "[LightGBM] [Warning] No further splits with positive gain, best gain: -inf\n",
      "[LightGBM] [Warning] No further splits with positive gain, best gain: -inf\n",
      "[LightGBM] [Warning] No further splits with positive gain, best gain: -inf\n",
      "[LightGBM] [Warning] No further splits with positive gain, best gain: -inf\n",
      "[LightGBM] [Warning] No further splits with positive gain, best gain: -inf\n",
      "[LightGBM] [Warning] No further splits with positive gain, best gain: -inf\n",
      "[LightGBM] [Warning] No further splits with positive gain, best gain: -inf\n",
      "[LightGBM] [Warning] No further splits with positive gain, best gain: -inf\n",
      "[LightGBM] [Warning] No further splits with positive gain, best gain: -inf\n",
      "[LightGBM] [Warning] No further splits with positive gain, best gain: -inf\n",
      "[LightGBM] [Warning] No further splits with positive gain, best gain: -inf\n",
      "[LightGBM] [Warning] No further splits with positive gain, best gain: -inf\n",
      "[LightGBM] [Warning] No further splits with positive gain, best gain: -inf\n",
      "[LightGBM] [Warning] No further splits with positive gain, best gain: -inf\n",
      "[LightGBM] [Warning] No further splits with positive gain, best gain: -inf\n",
      "[LightGBM] [Warning] No further splits with positive gain, best gain: -inf\n",
      "[LightGBM] [Warning] No further splits with positive gain, best gain: -inf\n",
      "[LightGBM] [Warning] No further splits with positive gain, best gain: -inf\n",
      "[LightGBM] [Warning] No further splits with positive gain, best gain: -inf\n",
      "[LightGBM] [Warning] No further splits with positive gain, best gain: -inf\n",
      "[LightGBM] [Warning] No further splits with positive gain, best gain: -inf\n",
      "[LightGBM] [Warning] No further splits with positive gain, best gain: -inf\n",
      "[LightGBM] [Warning] No further splits with positive gain, best gain: -inf\n",
      "[LightGBM] [Warning] No further splits with positive gain, best gain: -inf\n",
      "[LightGBM] [Warning] No further splits with positive gain, best gain: -inf\n",
      "[LightGBM] [Warning] No further splits with positive gain, best gain: -inf\n",
      "[LightGBM] [Warning] No further splits with positive gain, best gain: -inf\n",
      "[LightGBM] [Warning] No further splits with positive gain, best gain: -inf\n",
      "[LightGBM] [Warning] No further splits with positive gain, best gain: -inf\n",
      "[LightGBM] [Warning] No further splits with positive gain, best gain: -inf\n",
      "[LightGBM] [Warning] No further splits with positive gain, best gain: -inf\n",
      "[LightGBM] [Warning] No further splits with positive gain, best gain: -inf\n",
      "[LightGBM] [Warning] No further splits with positive gain, best gain: -inf\n",
      "[LightGBM] [Warning] No further splits with positive gain, best gain: -inf\n",
      "[LightGBM] [Warning] No further splits with positive gain, best gain: -inf\n",
      "[LightGBM] [Warning] No further splits with positive gain, best gain: -inf\n",
      "[LightGBM] [Warning] No further splits with positive gain, best gain: -inf\n",
      "[LightGBM] [Warning] No further splits with positive gain, best gain: -inf\n",
      "[LightGBM] [Warning] No further splits with positive gain, best gain: -inf\n",
      "[LightGBM] [Warning] No further splits with positive gain, best gain: -inf\n",
      "[LightGBM] [Warning] No further splits with positive gain, best gain: -inf\n",
      "[LightGBM] [Warning] No further splits with positive gain, best gain: -inf\n",
      "[LightGBM] [Warning] No further splits with positive gain, best gain: -inf\n",
      "[LightGBM] [Warning] No further splits with positive gain, best gain: -inf\n",
      "[LightGBM] [Warning] No further splits with positive gain, best gain: -inf\n",
      "[LightGBM] [Warning] No further splits with positive gain, best gain: -inf\n",
      "[LightGBM] [Warning] No further splits with positive gain, best gain: -inf\n",
      "[LightGBM] [Warning] No further splits with positive gain, best gain: -inf\n",
      "[LightGBM] [Warning] No further splits with positive gain, best gain: -inf\n",
      "[LightGBM] [Warning] No further splits with positive gain, best gain: -inf\n",
      "[LightGBM] [Warning] No further splits with positive gain, best gain: -inf\n",
      "[LightGBM] [Warning] No further splits with positive gain, best gain: -inf\n",
      "[LightGBM] [Warning] No further splits with positive gain, best gain: -inf\n",
      "[LightGBM] [Warning] No further splits with positive gain, best gain: -inf\n",
      "[LightGBM] [Warning] No further splits with positive gain, best gain: -inf\n",
      "[LightGBM] [Warning] No further splits with positive gain, best gain: -inf\n",
      "[LightGBM] [Warning] No further splits with positive gain, best gain: -inf\n",
      "[LightGBM] [Warning] No further splits with positive gain, best gain: -inf\n",
      "[LightGBM] [Warning] No further splits with positive gain, best gain: -inf\n",
      "[LightGBM] [Warning] No further splits with positive gain, best gain: -inf\n",
      "[LightGBM] [Warning] No further splits with positive gain, best gain: -inf\n",
      "[LightGBM] [Warning] No further splits with positive gain, best gain: -inf\n",
      "✅ No PCA - MAE: 3.36\n",
      "✅ No PCA - RMSE: 4.84\n"
     ]
    }
   ],
   "source": [
    "# ==========================\n",
    "# 🚀 Training without PCA\n",
    "# ==========================\n",
    "from lightgbm import LGBMRegressor\n",
    "from sklearn.metrics import mean_absolute_error, mean_squared_error\n",
    "\n",
    "# Define the model\n",
    "model_no_pca = LGBMRegressor(\n",
    "    n_estimators=300,\n",
    "    learning_rate=0.05,\n",
    "    max_depth=7,\n",
    "    subsample=0.8,\n",
    "    colsample_bytree=0.8,\n",
    "    random_state=42,\n",
    "    n_jobs=-1\n",
    ")\n",
    "\n",
    "print(\"🚀 Training LightGBM without PCA...\")\n",
    "model_no_pca.fit(X_train, y_train)\n",
    "\n",
    "# Predict\n",
    "y_pred_no_pca = model_no_pca.predict(X_test)\n",
    "\n",
    "# Metrics\n",
    "mae_no_pca = mean_absolute_error(y_test, y_pred_no_pca)\n",
    "rmse_no_pca = mean_squared_error(y_test, y_pred_no_pca) ** 0.5\n",
    "\n",
    "print(f\"✅ No PCA - MAE: {mae_no_pca:.2f}\")\n",
    "print(f\"✅ No PCA - RMSE: {rmse_no_pca:.2f}\")\n"
   ]
  },
  {
   "cell_type": "code",
   "execution_count": 5,
   "id": "487eff2e",
   "metadata": {},
   "outputs": [
    {
     "name": "stdout",
     "output_type": "stream",
     "text": [
      "✅ PCA reduced dimensions: 498 components\n",
      "🚀 Training LightGBM with PCA...\n",
      "[LightGBM] [Info] Auto-choosing col-wise multi-threading, the overhead of testing was 0.136866 seconds.\n",
      "You can set `force_col_wise=true` to remove the overhead.\n",
      "[LightGBM] [Info] Total Bins 126990\n",
      "[LightGBM] [Info] Number of data points in the train set: 39333, number of used features: 498\n",
      "[LightGBM] [Info] Start training from score 17.168586\n",
      "✅ With PCA - MAE: 3.95\n",
      "✅ With PCA - RMSE: 5.41\n"
     ]
    },
    {
     "name": "stderr",
     "output_type": "stream",
     "text": [
      "c:\\Users\\MD\\AppData\\Local\\Programs\\Python\\Python312\\Lib\\site-packages\\sklearn\\utils\\validation.py:2739: UserWarning: X does not have valid feature names, but LGBMRegressor was fitted with feature names\n",
      "  warnings.warn(\n"
     ]
    }
   ],
   "source": [
    "# ==========================\n",
    "# 🚀 Training with PCA\n",
    "# ==========================\n",
    "from sklearn.decomposition import PCA\n",
    "from sklearn.preprocessing import StandardScaler\n",
    "\n",
    "# Standardize the features before PCA\n",
    "scaler = StandardScaler()\n",
    "X_train_scaled = scaler.fit_transform(X_train)\n",
    "X_test_scaled = scaler.transform(X_test)\n",
    "\n",
    "# Apply PCA\n",
    "pca = PCA(n_components=0.95)  # Keep 95% variance\n",
    "X_train_pca = pca.fit_transform(X_train_scaled)\n",
    "X_test_pca = pca.transform(X_test_scaled)\n",
    "\n",
    "print(f\"✅ PCA reduced dimensions: {X_train_pca.shape[1]} components\")\n",
    "\n",
    "# Define a new model\n",
    "model_with_pca = LGBMRegressor(\n",
    "    n_estimators=300,\n",
    "    learning_rate=0.05,\n",
    "    max_depth=7,\n",
    "    subsample=0.8,\n",
    "    colsample_bytree=0.8,\n",
    "    random_state=42,\n",
    "    n_jobs=-1\n",
    ")\n",
    "\n",
    "print(\"🚀 Training LightGBM with PCA...\")\n",
    "model_with_pca.fit(X_train_pca, y_train)\n",
    "\n",
    "# Predict\n",
    "y_pred_with_pca = model_with_pca.predict(X_test_pca)\n",
    "\n",
    "# Metrics\n",
    "mae_with_pca = mean_absolute_error(y_test, y_pred_with_pca)\n",
    "rmse_with_pca = mean_squared_error(y_test, y_pred_with_pca) ** 0.5\n",
    "\n",
    "print(f\"✅ With PCA - MAE: {mae_with_pca:.2f}\")\n",
    "print(f\"✅ With PCA - RMSE: {rmse_with_pca:.2f}\")\n"
   ]
  },
  {
   "cell_type": "code",
   "execution_count": 6,
   "id": "b58dbe47",
   "metadata": {},
   "outputs": [
    {
     "name": "stdout",
     "output_type": "stream",
     "text": [
      "✅ LightGBM Optimized model saved to C:\\Users\\MD\\Desktop\\citi\\models\\lgbmhyper.pkl\n"
     ]
    }
   ],
   "source": [
    "import joblib\n",
    "\n",
    "# Define the output path\n",
    "model_save_path = r\"C:\\Users\\MD\\Desktop\\citi\\models\\lgbmhyper.pkl\"\n",
    "\n",
    "# Save the trained LightGBM model\n",
    "joblib.dump(lgbmhyper, model_save_path)\n",
    "\n",
    "print(f\"✅ LightGBM Optimized model saved to {model_save_path}\")\n"
   ]
  },
  {
   "cell_type": "code",
   "execution_count": 7,
   "id": "4b72ef61",
   "metadata": {},
   "outputs": [
    {
     "name": "stdout",
     "output_type": "stream",
     "text": [
      "✅ Model loaded successfully!\n",
      "📚 Type of loaded object: <class 'lightgbm.sklearn.LGBMRegressor'>\n"
     ]
    }
   ],
   "source": [
    "import joblib\n",
    "\n",
    "# Load the model\n",
    "model = joblib.load(\"C:\\\\Users\\\\MD\\\\Desktop\\\\citi\\\\models\\\\lgbmhyper.pkl\")\n",
    "\n",
    "\n",
    "# Check the type\n",
    "print(\"✅ Model loaded successfully!\")\n",
    "print(f\"📚 Type of loaded object: {type(model)}\")\n"
   ]
  }
 ],
 "metadata": {
  "kernelspec": {
   "display_name": "Python 3",
   "language": "python",
   "name": "python3"
  },
  "language_info": {
   "codemirror_mode": {
    "name": "ipython",
    "version": 3
   },
   "file_extension": ".py",
   "mimetype": "text/x-python",
   "name": "python",
   "nbconvert_exporter": "python",
   "pygments_lexer": "ipython3",
   "version": "3.12.2"
  }
 },
 "nbformat": 4,
 "nbformat_minor": 5
}
