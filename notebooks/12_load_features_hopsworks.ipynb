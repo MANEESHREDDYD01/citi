{
 "cells": [
  {
   "cell_type": "code",
   "execution_count": 1,
   "id": "e026b6a7",
   "metadata": {},
   "outputs": [
    {
     "data": {
      "text/plain": [
       "CompletedProcess(args=['c:\\\\Users\\\\MD\\\\AppData\\\\Local\\\\Programs\\\\Python\\\\Python312\\\\python.exe', '-m', 'pip', 'install', '--upgrade', 'hsfs', 'hopsworks', 'protobuf'], returncode=0)"
      ]
     },
     "execution_count": 1,
     "metadata": {},
     "output_type": "execute_result"
    }
   ],
   "source": [
    "import sys\n",
    "import subprocess\n",
    "\n",
    "# Upgrade related dependencies\n",
    "subprocess.run([sys.executable, \"-m\", \"pip\", \"install\", \"--upgrade\", \"hsfs\", \"hopsworks\", \"protobuf\"])"
   ]
  },
  {
   "cell_type": "code",
   "execution_count": 1,
   "id": "c69d95fe",
   "metadata": {},
   "outputs": [],
   "source": [
    "import sys\n",
    "import os\n",
    "from pathlib import Path\n",
    "\n",
    "# Add the parent directory to sys.path\n",
    "sys.path.append(str(Path(os.getcwd()).resolve().parent))\n"
   ]
  },
  {
   "cell_type": "code",
   "execution_count": 2,
   "id": "f1c02b75",
   "metadata": {},
   "outputs": [
    {
     "name": "stdout",
     "output_type": "stream",
     "text": [
      "📂 Loading rides_citibike_final_2024_with_lags.parquet...\n",
      "✅ Loaded data shape: (43020, 687)\n",
      "🔗 Connecting to Hopsworks...\n",
      "2025-05-11 00:56:28,691 INFO: Initializing external client\n",
      "2025-05-11 00:56:28,691 INFO: Base URL: https://c.app.hopsworks.ai:443\n",
      "2025-05-11 00:56:29,420 INFO: Python Engine initialized.\n",
      "\n",
      "Logged in to project, explore it here https://c.app.hopsworks.ai:443/p/1231002\n",
      "✅ Connected to Hopsworks!\n",
      "⚙️ Creating new Feature Group: citibike_hourly_data_v2\n",
      "✅ New Feature Group created successfully!\n",
      "📦 Inserting full CitiBike data into citibike_hourly_data_v2...\n",
      "Feature Group created successfully, explore it at \n",
      "https://c.app.hopsworks.ai:443/p/1231002/fs/1213537/fg/1458581\n"
     ]
    },
    {
     "name": "stderr",
     "output_type": "stream",
     "text": [
      "Uploading Dataframe: 100.00% |██████████| Rows 43020/43020 | Elapsed Time: 02:56 | Remaining Time: 00:00\n"
     ]
    },
    {
     "name": "stdout",
     "output_type": "stream",
     "text": [
      "Launching job: citibike_hourly_data_v2_1_offline_fg_materialization\n",
      "Job started successfully, you can follow the progress at \n",
      "https://c.app.hopsworks.ai:443/p/1231002/jobs/named/citibike_hourly_data_v2_1_offline_fg_materialization/executions\n",
      "🏁 SUCCESS! Full CitiBike 2024 data inserted into the new Feature Group!\n"
     ]
    }
   ],
   "source": [
    "import pandas as pd\n",
    "from pathlib import Path\n",
    "import hopsworks\n",
    "import src.config as config\n",
    "\n",
    "# ========================\n",
    "# 📂 Load CitiBike Final Data\n",
    "# ========================\n",
    "print(\"📂 Loading rides_citibike_final_2024_with_lags.parquet...\")\n",
    "\n",
    "local_file_path = Path(\"../data/processed/final_features/rides_citibike_final_2024_with_lags.parquet\")\n",
    "real_df = pd.read_parquet(local_file_path)\n",
    "\n",
    "print(f\"✅ Loaded data shape: {real_df.shape}\")\n",
    "\n",
    "# ========================\n",
    "# 🔗 Connect to Hopsworks\n",
    "# ========================\n",
    "print(\"🔗 Connecting to Hopsworks...\")\n",
    "\n",
    "project = hopsworks.login(\n",
    "    project=config.HOPSWORKS_PROJECT_NAME,\n",
    "    api_key_value=config.HOPSWORKS_API_KEY\n",
    ")\n",
    "feature_store = project.get_feature_store()\n",
    "\n",
    "print(\"✅ Connected to Hopsworks!\")\n",
    "\n",
    "# ========================\n",
    "# 🆕 Create New Feature Group\n",
    "# ========================\n",
    "from hsfs.feature_group import FeatureGroup\n",
    "\n",
    "new_feature_group_name = \"citibike_hourly_data_v2\"\n",
    "\n",
    "print(f\"⚙️ Creating new Feature Group: {new_feature_group_name}\")\n",
    "\n",
    "new_feature_group = feature_store.create_feature_group(\n",
    "    name=new_feature_group_name,\n",
    "    version=1,\n",
    "    primary_key=[\"start_station_id\", \"hour_ts\"],\n",
    "    event_time=\"hour_ts\",\n",
    "    description=\"Full CitiBike 2024 features with 672 lags, time features, no missing columns\",\n",
    "    online_enabled=False\n",
    ")\n",
    "\n",
    "print(\"✅ New Feature Group created successfully!\")\n",
    "\n",
    "# ========================\n",
    "# 📦 Insert Full Data\n",
    "# ========================\n",
    "print(f\"📦 Inserting full CitiBike data into {new_feature_group_name}...\")\n",
    "\n",
    "new_feature_group.insert(real_df)\n",
    "\n",
    "print(\"🏁 SUCCESS! Full CitiBike 2024 data inserted into the new Feature Group!\")\n"
   ]
  },
  {
   "cell_type": "code",
   "execution_count": 3,
   "id": "159904cd",
   "metadata": {},
   "outputs": [
    {
     "name": "stdout",
     "output_type": "stream",
     "text": [
      "📂 Loading rides_citibike_final_2025_with_lags.parquet...\n",
      "✅ Loaded 2025 data shape: (6370, 687)\n",
      "🔗 Connecting to Hopsworks...\n",
      "2025-05-11 01:00:04,472 INFO: Closing external client and cleaning up certificates.\n",
      "Connection closed.\n",
      "2025-05-11 01:00:04,475 INFO: Initializing external client\n",
      "2025-05-11 01:00:04,477 INFO: Base URL: https://c.app.hopsworks.ai:443\n",
      "2025-05-11 01:00:05,053 INFO: Python Engine initialized.\n",
      "\n",
      "Logged in to project, explore it here https://c.app.hopsworks.ai:443/p/1231002\n",
      "✅ Connected to Hopsworks!\n",
      "📦 Fetching existing Feature Group: citibike_hourly_data_v2\n",
      "✅ Found Feature Group: citibike_hourly_data_v2\n",
      "📦 Inserting 2025 data into Feature Store...\n"
     ]
    },
    {
     "name": "stderr",
     "output_type": "stream",
     "text": [
      "Uploading Dataframe: 100.00% |██████████| Rows 6370/6370 | Elapsed Time: 00:24 | Remaining Time: 00:00\n"
     ]
    },
    {
     "name": "stdout",
     "output_type": "stream",
     "text": [
      "2025-05-11 01:00:34,123 WARNING: UserWarning: Materialization job is already running, aborting new execution.Please wait for the current execution to finish before triggering a new one.You can check the status of the current execution using `fg.materialization_job.get_state()`.or `fg.materialization_job.get_final_state()` or check it out in the Hopsworks UI.at https://c.app.hopsworks.ai:443/p/1231002/jobs/named/citibike_hourly_data_v2_1_offline_fg_materialization.\n",
      "Use fg.materialization_job.run(args=-op offline_fg_materialization -path hdfs:///Projects/citi/Resources/jobs/citibike_hourly_data_v2_1_offline_fg_materialization/config_1746939393364) to trigger the materialization job again.\n",
      "\n",
      "🏁 SUCCESS! 2025 data inserted into Feature Group!\n"
     ]
    }
   ],
   "source": [
    "import pandas as pd\n",
    "from pathlib import Path\n",
    "import hopsworks\n",
    "import src.config as config\n",
    "\n",
    "# ============================\n",
    "# 📂 Load CitiBike 2025 Final Data\n",
    "# ============================\n",
    "\n",
    "print(\"📂 Loading rides_citibike_final_2025_with_lags.parquet...\")\n",
    "\n",
    "file_path_2025 = Path(\"../data/processed/final_features/rides_citibike_final_2025_with_lags.parquet\")\n",
    "data_2025 = pd.read_parquet(file_path_2025)\n",
    "\n",
    "print(f\"✅ Loaded 2025 data shape: {data_2025.shape}\")\n",
    "\n",
    "# ============================\n",
    "# 🔗 Connect to Hopsworks\n",
    "# ============================\n",
    "\n",
    "print(\"🔗 Connecting to Hopsworks...\")\n",
    "\n",
    "project = hopsworks.login(\n",
    "    project=config.HOPSWORKS_PROJECT_NAME,\n",
    "    api_key_value=config.HOPSWORKS_API_KEY\n",
    ")\n",
    "feature_store = project.get_feature_store()\n",
    "\n",
    "print(\"✅ Connected to Hopsworks!\")\n",
    "\n",
    "# ============================\n",
    "# 📦 Fetch Existing Feature Group\n",
    "# ============================\n",
    "\n",
    "feature_group_name = \"citibike_hourly_data_v2\"   # ✅ SAME as before\n",
    "\n",
    "print(f\"📦 Fetching existing Feature Group: {feature_group_name}\")\n",
    "\n",
    "feature_group = feature_store.get_feature_group(\n",
    "    name=feature_group_name,\n",
    "    version=1\n",
    ")\n",
    "\n",
    "print(f\"✅ Found Feature Group: {feature_group.name}\")\n",
    "\n",
    "# ============================\n",
    "# 📦 Insert 2025 Data into Feature Group\n",
    "# ============================\n",
    "\n",
    "print(\"📦 Inserting 2025 data into Feature Store...\")\n",
    "\n",
    "feature_group.insert(data_2025)\n",
    "\n",
    "print(\"🏁 SUCCESS! 2025 data inserted into Feature Group!\")\n"
   ]
  },
  {
   "cell_type": "code",
   "execution_count": 4,
   "id": "52441334",
   "metadata": {},
   "outputs": [
    {
     "name": "stdout",
     "output_type": "stream",
     "text": [
      "✅ Loaded data shape: (43020, 687)\n",
      "✅ Train shape: (32046, 687)\n",
      "✅ Test shape: (10974, 687)\n"
     ]
    }
   ],
   "source": [
    "import pandas as pd\n",
    "import pytz\n",
    "from datetime import datetime\n",
    "\n",
    "# Load\n",
    "df = pd.read_parquet(\"../data/processed/final_features/rides_citibike_final_2024_with_lags.parquet\")\n",
    "print(f\"✅ Loaded data shape: {df.shape}\")\n",
    "\n",
    "# Ensure hour_ts is datetime with timezone\n",
    "df[\"hour_ts\"] = pd.to_datetime(df[\"hour_ts\"], utc=True).dt.tz_convert(\"America/New_York\")\n",
    "\n",
    "# Define cutoff\n",
    "cutoff_date = pd.Timestamp(\"2024-11-01 00:00:00\", tz=\"America/New_York\")\n",
    "\n",
    "# Split\n",
    "train_df = df[df[\"hour_ts\"] < cutoff_date]\n",
    "test_df = df[df[\"hour_ts\"] >= cutoff_date]\n",
    "\n",
    "print(f\"✅ Train shape: {train_df.shape}\")\n",
    "print(f\"✅ Test shape: {test_df.shape}\")\n"
   ]
  },
  {
   "cell_type": "code",
   "execution_count": 21,
   "id": "de5bc851",
   "metadata": {},
   "outputs": [
    {
     "name": "stdout",
     "output_type": "stream",
     "text": [
      "📂 Loading rides_citibike_final_2024_with_lags.parquet...\n",
      "✅ Loaded data shape: (43020, 687)\n",
      "✅ Split complete: 39333 train samples, 3687 test samples\n",
      "✅ Train set shape: (39333, 687)\n",
      "✅ Test set shape: (3687, 687)\n",
      "🔗 Connecting to Hopsworks...\n",
      "2025-05-11 01:51:13,887 INFO: Closing external client and cleaning up certificates.\n",
      "Connection closed.\n",
      "2025-05-11 01:51:13,892 INFO: Initializing external client\n",
      "2025-05-11 01:51:13,892 INFO: Base URL: https://c.app.hopsworks.ai:443\n",
      "2025-05-11 01:51:17,094 INFO: Python Engine initialized.\n",
      "\n",
      "Logged in to project, explore it here https://c.app.hopsworks.ai:443/p/1231002\n",
      "✅ Connected to Hopsworks!\n",
      "⚙️ Creating Train Feature Group...\n",
      "✅ Train Feature Group ready!\n",
      "⚙️ Creating Test Feature Group...\n",
      "✅ Test Feature Group ready!\n",
      "📥 Inserting Train data into Hopsworks...\n",
      "Feature Group created successfully, explore it at \n",
      "https://c.app.hopsworks.ai:443/p/1231002/fs/1213537/fg/1458585\n"
     ]
    },
    {
     "name": "stderr",
     "output_type": "stream",
     "text": [
      "Uploading Dataframe: 100.00% |██████████| Rows 39333/39333 | Elapsed Time: 04:34 | Remaining Time: 00:00\n"
     ]
    },
    {
     "name": "stdout",
     "output_type": "stream",
     "text": [
      "Launching job: citibike_train_data_v2_1_offline_fg_materialization\n",
      "Job started successfully, you can follow the progress at \n",
      "https://c.app.hopsworks.ai:443/p/1231002/jobs/named/citibike_train_data_v2_1_offline_fg_materialization/executions\n",
      "✅ Train data inserted!\n",
      "📥 Inserting Test data into Hopsworks...\n",
      "Feature Group created successfully, explore it at \n",
      "https://c.app.hopsworks.ai:443/p/1231002/fs/1213537/fg/1458587\n"
     ]
    },
    {
     "name": "stderr",
     "output_type": "stream",
     "text": [
      "Uploading Dataframe: 100.00% |██████████| Rows 3687/3687 | Elapsed Time: 00:20 | Remaining Time: 00:00\n"
     ]
    },
    {
     "name": "stdout",
     "output_type": "stream",
     "text": [
      "Launching job: citibike_test_data_v2_1_offline_fg_materialization\n",
      "Job started successfully, you can follow the progress at \n",
      "https://c.app.hopsworks.ai:443/p/1231002/jobs/named/citibike_test_data_v2_1_offline_fg_materialization/executions\n",
      "✅ Test data inserted!\n",
      "🏁 Done! Train and Test datasets successfully uploaded to Hopsworks!\n"
     ]
    }
   ],
   "source": [
    "# ==============================\n",
    "# 📦 Imports\n",
    "# ==============================\n",
    "import pandas as pd\n",
    "import numpy as np\n",
    "from pathlib import Path\n",
    "import os\n",
    "import sys\n",
    "\n",
    "import hopsworks\n",
    "from hsfs.feature_group import FeatureGroup\n",
    "from datetime import datetime\n",
    "\n",
    "sys.path.append(os.path.abspath(os.path.join(os.getcwd(), \"..\")))\n",
    "\n",
    "from src.utils import split_time_series_data\n",
    "import src.config as config\n",
    "\n",
    "# ==============================\n",
    "# 📂 Load the Final Data\n",
    "# ==============================\n",
    "\n",
    "print(\"📂 Loading rides_citibike_final_2024_with_lags.parquet...\")\n",
    "\n",
    "final_features_path = Path(\"C:/Users/MD/Desktop/citi/data/processed/final_features\")\n",
    "df = pd.read_parquet(final_features_path / \"rides_citibike_final_2024_with_lags.parquet\")\n",
    "\n",
    "print(f\"✅ Loaded data shape: {df.shape}\")\n",
    "\n",
    "# ==============================\n",
    "# ✂️ Train-Test Split\n",
    "# ==============================\n",
    "\n",
    "X_train, y_train, X_test, y_test = split_time_series_data(\n",
    "    df,\n",
    "    cutoff_date=datetime(2025, 1, 1),\n",
    "    target_column=\"ride_count\"\n",
    ")\n",
    "\n",
    "# Merge features + target together for Hopsworks upload\n",
    "train_df = X_train.copy()\n",
    "train_df[\"ride_count\"] = y_train\n",
    "\n",
    "test_df = X_test.copy()\n",
    "test_df[\"ride_count\"] = y_test\n",
    "\n",
    "print(f\"✅ Train set shape: {train_df.shape}\")\n",
    "print(f\"✅ Test set shape: {test_df.shape}\")\n",
    "\n",
    "# ==============================\n",
    "# 🔗 Connect to Hopsworks\n",
    "# ==============================\n",
    "\n",
    "print(\"🔗 Connecting to Hopsworks...\")\n",
    "\n",
    "project = hopsworks.login(\n",
    "    project=config.HOPSWORKS_PROJECT_NAME,\n",
    "    api_key_value=config.HOPSWORKS_API_KEY\n",
    ")\n",
    "feature_store = project.get_feature_store()\n",
    "\n",
    "print(\"✅ Connected to Hopsworks!\")\n",
    "\n",
    "# ==============================\n",
    "# 📦 Create or Fetch Feature Groups\n",
    "# ==============================\n",
    "\n",
    "# 1. Train Feature Group\n",
    "print(\"⚙️ Creating Train Feature Group...\")\n",
    "\n",
    "train_fg = feature_store.get_or_create_feature_group(\n",
    "    name=\"citibike_train_data_v2\",\n",
    "    version=1,\n",
    "    primary_key=[\"start_station_id\", \"hour_ts\"],\n",
    "    description=\"Train set for CitiBike 8-hour ride count prediction (v2)\",\n",
    "    event_time=\"hour_ts\",\n",
    "    online_enabled=False\n",
    ")\n",
    "\n",
    "print(\"✅ Train Feature Group ready!\")\n",
    "\n",
    "# 2. Test Feature Group\n",
    "print(\"⚙️ Creating Test Feature Group...\")\n",
    "\n",
    "test_fg = feature_store.get_or_create_feature_group(\n",
    "    name=\"citibike_test_data_v2\",\n",
    "    version=1,\n",
    "    primary_key=[\"start_station_id\", \"hour_ts\"],\n",
    "    description=\"Test set for CitiBike 8-hour ride count prediction (v2)\",\n",
    "    event_time=\"hour_ts\",\n",
    "    online_enabled=False\n",
    ")\n",
    "\n",
    "print(\"✅ Test Feature Group ready!\")\n",
    "\n",
    "# ==============================\n",
    "# 📥 Insert Data into Feature Groups\n",
    "# ==============================\n",
    "\n",
    "print(\"📥 Inserting Train data into Hopsworks...\")\n",
    "train_fg.insert(train_df, overwrite=True)\n",
    "print(\"✅ Train data inserted!\")\n",
    "\n",
    "print(\"📥 Inserting Test data into Hopsworks...\")\n",
    "test_fg.insert(test_df, overwrite=True)\n",
    "print(\"✅ Test data inserted!\")\n",
    "\n",
    "print(\"🏁 Done! Train and Test datasets successfully uploaded to Hopsworks!\")\n"
   ]
  },
  {
   "cell_type": "code",
   "execution_count": 5,
   "id": "57fa5820",
   "metadata": {},
   "outputs": [
    {
     "name": "stdout",
     "output_type": "stream",
     "text": [
      "✅ lgbmhyper model loaded!\n"
     ]
    }
   ],
   "source": [
    "import joblib\n",
    "from pathlib import Path\n",
    "\n",
    "# Path where the model was saved earlier\n",
    "model_load_path = Path(r\"C:\\Users\\MD\\Desktop\\citi\\models\\lgbmhyper.pkl\")  # 🛑 Check the correct path\n",
    "\n",
    "# Load model\n",
    "lgbmhyper = joblib.load(model_load_path)\n",
    "\n",
    "print(\"✅ lgbmhyper model loaded!\")\n"
   ]
  },
  {
   "cell_type": "code",
   "execution_count": 12,
   "id": "604f0f00",
   "metadata": {},
   "outputs": [
    {
     "name": "stdout",
     "output_type": "stream",
     "text": [
      "🔗 Connecting to Hopsworks...\n",
      "2025-05-11 01:28:16,655 INFO: Closing external client and cleaning up certificates.\n",
      "Connection closed.\n",
      "2025-05-11 01:28:16,668 INFO: Initializing external client\n",
      "2025-05-11 01:28:16,669 INFO: Base URL: https://c.app.hopsworks.ai:443\n",
      "2025-05-11 01:28:17,490 INFO: Python Engine initialized.\n",
      "\n",
      "Logged in to project, explore it here https://c.app.hopsworks.ai:443/p/1231002\n",
      "✅ Connected to Hopsworks Model Registry!\n",
      "📂 Loading trained LightGBM model...\n",
      "✅ Model loaded!\n",
      "🚀 Registering model into Hopsworks...\n"
     ]
    },
    {
     "data": {
      "application/vnd.jupyter.widget-view+json": {
       "model_id": "28b475dc6718425892fda9eca6bd37ac",
       "version_major": 2,
       "version_minor": 0
      },
      "text/plain": [
       "  0%|          | 0/6 [00:00<?, ?it/s]"
      ]
     },
     "metadata": {},
     "output_type": "display_data"
    },
    {
     "data": {
      "application/vnd.jupyter.widget-view+json": {
       "model_id": "d9555ad82651456093a99dd7863b2049",
       "version_major": 2,
       "version_minor": 0
      },
      "text/plain": [
       "Uploading C:\\Users\\MD\\Desktop\\citi\\models\\lgbmhyper.pkl: 0.000%|          | 0/11826319 elapsed<00:00 remaining…"
      ]
     },
     "metadata": {},
     "output_type": "display_data"
    },
    {
     "name": "stdout",
     "output_type": "stream",
     "text": [
      "Model created, explore it at https://c.app.hopsworks.ai:443/p/1231002/models/citibike_lgbm_model_v2/2\n",
      "🏁 SUCCESS! Model registered in Hopsworks at:\n",
      "👉 https://c.app.hopsworks.ai/p/1231002/models\n"
     ]
    }
   ],
   "source": [
    "# ========================\n",
    "# 📚 Imports\n",
    "# ========================\n",
    "import hopsworks\n",
    "import joblib\n",
    "from pathlib import Path\n",
    "import src.config as config  # ✅ Your config.py\n",
    "\n",
    "# ========================\n",
    "# 🔗 Connect to Hopsworks\n",
    "# ========================\n",
    "print(\"🔗 Connecting to Hopsworks...\")\n",
    "\n",
    "project = hopsworks.login(\n",
    "    project=config.HOPSWORKS_PROJECT_NAME,\n",
    "    api_key_value=config.HOPSWORKS_API_KEY\n",
    ")\n",
    "model_registry = project.get_model_registry()\n",
    "\n",
    "print(\"✅ Connected to Hopsworks Model Registry!\")\n",
    "\n",
    "# ========================\n",
    "# 📂 Load Model\n",
    "# ========================\n",
    "print(\"📂 Loading trained LightGBM model...\")\n",
    "\n",
    "model_local_path = Path(r\"C:\\Users\\MD\\Desktop\\citi\\models\\lgbmhyper.pkl\")  # ✅ Your trained model file\n",
    "model = joblib.load(model_local_path)\n",
    "\n",
    "print(\"✅ Model loaded!\")\n",
    "\n",
    "# ========================\n",
    "# 🆕 Register Model\n",
    "# ========================\n",
    "print(\"🚀 Registering model into Hopsworks...\")\n",
    "\n",
    "model_registry_model = model_registry.python.create_model(\n",
    "    name=\"citibike_lgbm_model_v2\",  # ✅ Your model name\n",
    "    metrics={\"mae\": 3.18, \"rmse\": 4.59},  # (Optional - you can update later)\n",
    "    description=\"Optimized LightGBM model for CitiBike ride prediction with full lag features.\"\n",
    ")\n",
    "\n",
    "# Save/upload model\n",
    "model_registry_model.save(str(model_local_path))\n",
    "\n",
    "print(\"🏁 SUCCESS! Model registered in Hopsworks at:\")\n",
    "print(\"👉 https://c.app.hopsworks.ai/p/1231002/models\")\n"
   ]
  },
  {
   "cell_type": "code",
   "execution_count": 23,
   "id": "6ed787be",
   "metadata": {},
   "outputs": [
    {
     "name": "stdout",
     "output_type": "stream",
     "text": [
      "🔗 Connecting to Hopsworks...\n",
      "2025-05-11 02:00:46,272 INFO: Closing external client and cleaning up certificates.\n",
      "Connection closed.\n",
      "2025-05-11 02:00:46,289 INFO: Initializing external client\n",
      "2025-05-11 02:00:46,289 INFO: Base URL: https://c.app.hopsworks.ai:443\n"
     ]
    },
    {
     "name": "stdout",
     "output_type": "stream",
     "text": [
      "2025-05-11 02:00:46,872 INFO: Python Engine initialized.\n",
      "\n",
      "Logged in to project, explore it here https://c.app.hopsworks.ai:443/p/1231002\n",
      "✅ Connected to Hopsworks!\n",
      "📦 Fetching Feature Group 'citibike_hourly_data_v2'...\n",
      "✅ Feature Group fetched: citibike_hourly_data_v2\n",
      "⚙️ Creating Feature View for full CitiBike data...\n",
      "Feature view created successfully, explore it at \n",
      "https://c.app.hopsworks.ai:443/p/1231002/fs/1213537/fv/citibike_hourly_feature_view_v2/version/1\n",
      "🏁 SUCCESS! Feature View created: citibike_hourly_feature_view_v2\n"
     ]
    }
   ],
   "source": [
    "# ==============================\n",
    "# 📦 Imports\n",
    "# ==============================\n",
    "import hopsworks\n",
    "import src.config as config\n",
    "\n",
    "# ==============================\n",
    "# 🔗 Connect to Hopsworks\n",
    "# ==============================\n",
    "\n",
    "print(\"🔗 Connecting to Hopsworks...\")\n",
    "\n",
    "project = hopsworks.login(\n",
    "    project=config.HOPSWORKS_PROJECT_NAME,\n",
    "    api_key_value=config.HOPSWORKS_API_KEY\n",
    ")\n",
    "\n",
    "feature_store = project.get_feature_store()\n",
    "\n",
    "print(\"✅ Connected to Hopsworks!\")\n",
    "\n",
    "# ==============================\n",
    "# 📋 Fetch Feature Group\n",
    "# ==============================\n",
    "\n",
    "print(\"📦 Fetching Feature Group 'citibike_hourly_data_v2'...\")\n",
    "\n",
    "feature_group = feature_store.get_feature_group(\n",
    "    name=\"citibike_hourly_data_v2\",\n",
    "    version=1\n",
    ")\n",
    "\n",
    "print(f\"✅ Feature Group fetched: {feature_group.name}\")\n",
    "\n",
    "# ==============================\n",
    "# 👀 Create Feature View\n",
    "# ==============================\n",
    "\n",
    "print(\"⚙️ Creating Feature View for full CitiBike data...\")\n",
    "\n",
    "feature_view = feature_store.create_feature_view(\n",
    "    name=\"citibike_hourly_feature_view_v2\",    # 🚀 Feature View name (new)\n",
    "    version=1,\n",
    "    description=\"Feature View for CitiBike 2024 data with full 8-hour lag features and time features\",\n",
    "    labels=[\"ride_count\"],                     # 🎯 Prediction target\n",
    "    query=feature_group.select_all()\n",
    ")\n",
    "\n",
    "print(f\"🏁 SUCCESS! Feature View created: {feature_view.name}\")\n"
   ]
  },
  {
   "cell_type": "code",
   "execution_count": 27,
   "id": "5a63eeb0",
   "metadata": {},
   "outputs": [
    {
     "name": "stdout",
     "output_type": "stream",
     "text": [
      "🔗 Connecting to Hopsworks...\n",
      "2025-05-11 02:07:03,709 INFO: Closing external client and cleaning up certificates.\n",
      "Connection closed.\n",
      "2025-05-11 02:07:03,725 INFO: Initializing external client\n",
      "2025-05-11 02:07:03,725 INFO: Base URL: https://c.app.hopsworks.ai:443\n",
      "2025-05-11 02:07:04,534 INFO: Python Engine initialized.\n",
      "\n",
      "Logged in to project, explore it here https://c.app.hopsworks.ai:443/p/1231002\n",
      "✅ Connected to Hopsworks!\n",
      "📦 Fetching Feature View 'citibike_hourly_feature_view_v2'...\n",
      "✅ Feature View loaded: citibike_hourly_feature_view_v2\n",
      "🎯 Creating training dataset...\n",
      "Finished: Materializing data to Hopsworks, using Hopsworks Feature Query Service (8.75s) \n",
      "2025-05-11 02:07:33,100 WARNING: VersionWarning: Incremented version to `1`.\n",
      "\n",
      "🏁 SUCCESS! Training dataset created with ID: 1\n"
     ]
    }
   ],
   "source": [
    "# ==============================\n",
    "# 📚 Import required\n",
    "# ==============================\n",
    "import hopsworks\n",
    "import src.config as config\n",
    "\n",
    "# ==============================\n",
    "# 🔗 Connect to Hopsworks\n",
    "# ==============================\n",
    "print(\"🔗 Connecting to Hopsworks...\")\n",
    "\n",
    "project = hopsworks.login(\n",
    "    project=config.HOPSWORKS_PROJECT_NAME,\n",
    "    api_key_value=config.HOPSWORKS_API_KEY\n",
    ")\n",
    "\n",
    "feature_store = project.get_feature_store()\n",
    "\n",
    "print(\"✅ Connected to Hopsworks!\")\n",
    "\n",
    "# ==============================\n",
    "# 📋 Fetch the Feature View\n",
    "# ==============================\n",
    "print(\"📦 Fetching Feature View 'citibike_hourly_feature_view_v2'...\")\n",
    "\n",
    "feature_view = feature_store.get_feature_view(\n",
    "    name=\"citibike_hourly_feature_view_v2\",\n",
    "    version=1\n",
    ")\n",
    "\n",
    "print(f\"✅ Feature View loaded: {feature_view.name}\")\n",
    "\n",
    "# ==============================\n",
    "# 📈 Create Training Dataset\n",
    "# ==============================\n",
    "\n",
    "print(\"🎯 Creating training dataset...\")\n",
    "\n",
    "training_dataset, label = feature_view.create_training_data(\n",
    "    description=\"Training dataset for CitiBike LGBM prediction (2024 full with lags)\",\n",
    "    data_format=\"parquet\",\n",
    "    coalesce=True,\n",
    "    write_options={\"wait_for_job\": True}\n",
    ")\n",
    "\n",
    "print(f\"🏁 SUCCESS! Training dataset created with ID: {training_dataset}\")\n"
   ]
  },
  {
   "cell_type": "code",
   "execution_count": 29,
   "id": "a9b91000",
   "metadata": {},
   "outputs": [
    {
     "name": "stdout",
     "output_type": "stream",
     "text": [
      "Finished: Reading data from Hopsworks, using Hopsworks Feature Query Service (35.67s) \n",
      "hour_ts               datetime64[us, Etc/UTC]\n",
      "start_station_name                     object\n",
      "start_station_id                        int64\n",
      "ride_count                              int32\n",
      "hour                                    int32\n",
      "                               ...           \n",
      "ride_count_lag_668                    float64\n",
      "ride_count_lag_669                    float64\n",
      "ride_count_lag_670                    float64\n",
      "ride_count_lag_671                    float64\n",
      "ride_count_lag_672                    float64\n",
      "Length: 687, dtype: object\n"
     ]
    }
   ],
   "source": [
    "df = feature_group.read()\n",
    "print(df.dtypes)\n"
   ]
  }
 ],
 "metadata": {
  "kernelspec": {
   "display_name": "Python 3",
   "language": "python",
   "name": "python3"
  },
  "language_info": {
   "codemirror_mode": {
    "name": "ipython",
    "version": 3
   },
   "file_extension": ".py",
   "mimetype": "text/x-python",
   "name": "python",
   "nbconvert_exporter": "python",
   "pygments_lexer": "ipython3",
   "version": "3.12.2"
  }
 },
 "nbformat": 4,
 "nbformat_minor": 5
}
