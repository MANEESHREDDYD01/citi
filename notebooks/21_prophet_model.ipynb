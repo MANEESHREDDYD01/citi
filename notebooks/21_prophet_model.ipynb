{
 "cells": [
  {
   "cell_type": "code",
   "execution_count": 1,
   "metadata": {},
   "outputs": [
    {
     "name": "stdout",
     "output_type": "stream",
     "text": [
      "Defaulting to user installation because normal site-packages is not writeable\n",
      "Collecting prophet\n",
      "  Downloading prophet-1.1.6-py3-none-win_amd64.whl.metadata (3.6 kB)\n",
      "Collecting cmdstanpy>=1.0.4 (from prophet)\n",
      "  Downloading cmdstanpy-1.2.5-py3-none-any.whl.metadata (4.0 kB)\n",
      "Requirement already satisfied: numpy>=1.15.4 in c:\\programdata\\anaconda3\\lib\\site-packages (from prophet) (1.26.4)\n",
      "Requirement already satisfied: matplotlib>=2.0.0 in c:\\programdata\\anaconda3\\lib\\site-packages (from prophet) (3.9.2)\n",
      "Requirement already satisfied: pandas>=1.0.4 in c:\\users\\md\\appdata\\roaming\\python\\python312\\site-packages (from prophet) (2.1.4)\n",
      "Collecting holidays<1,>=0.25 (from prophet)\n",
      "  Downloading holidays-0.68-py3-none-any.whl.metadata (27 kB)\n",
      "Requirement already satisfied: tqdm>=4.36.1 in c:\\programdata\\anaconda3\\lib\\site-packages (from prophet) (4.66.5)\n",
      "Collecting importlib-resources (from prophet)\n",
      "  Downloading importlib_resources-6.5.2-py3-none-any.whl.metadata (3.9 kB)\n",
      "Collecting stanio<2.0.0,>=0.4.0 (from cmdstanpy>=1.0.4->prophet)\n",
      "  Downloading stanio-0.5.1-py3-none-any.whl.metadata (1.6 kB)\n",
      "Requirement already satisfied: python-dateutil in c:\\programdata\\anaconda3\\lib\\site-packages (from holidays<1,>=0.25->prophet) (2.9.0.post0)\n",
      "Requirement already satisfied: contourpy>=1.0.1 in c:\\programdata\\anaconda3\\lib\\site-packages (from matplotlib>=2.0.0->prophet) (1.2.0)\n",
      "Requirement already satisfied: cycler>=0.10 in c:\\programdata\\anaconda3\\lib\\site-packages (from matplotlib>=2.0.0->prophet) (0.11.0)\n",
      "Requirement already satisfied: fonttools>=4.22.0 in c:\\programdata\\anaconda3\\lib\\site-packages (from matplotlib>=2.0.0->prophet) (4.51.0)\n",
      "Requirement already satisfied: kiwisolver>=1.3.1 in c:\\programdata\\anaconda3\\lib\\site-packages (from matplotlib>=2.0.0->prophet) (1.4.4)\n",
      "Requirement already satisfied: packaging>=20.0 in c:\\programdata\\anaconda3\\lib\\site-packages (from matplotlib>=2.0.0->prophet) (24.1)\n",
      "Requirement already satisfied: pillow>=8 in c:\\programdata\\anaconda3\\lib\\site-packages (from matplotlib>=2.0.0->prophet) (10.4.0)\n",
      "Requirement already satisfied: pyparsing>=2.3.1 in c:\\programdata\\anaconda3\\lib\\site-packages (from matplotlib>=2.0.0->prophet) (3.1.2)\n",
      "Requirement already satisfied: pytz>=2020.1 in c:\\programdata\\anaconda3\\lib\\site-packages (from pandas>=1.0.4->prophet) (2024.1)\n",
      "Requirement already satisfied: tzdata>=2022.1 in c:\\programdata\\anaconda3\\lib\\site-packages (from pandas>=1.0.4->prophet) (2023.3)\n",
      "Requirement already satisfied: colorama in c:\\programdata\\anaconda3\\lib\\site-packages (from tqdm>=4.36.1->prophet) (0.4.6)\n",
      "Requirement already satisfied: six>=1.5 in c:\\programdata\\anaconda3\\lib\\site-packages (from python-dateutil->holidays<1,>=0.25->prophet) (1.16.0)\n",
      "Downloading prophet-1.1.6-py3-none-win_amd64.whl (13.3 MB)\n",
      "   ---------------------------------------- 0.0/13.3 MB ? eta -:--:--\n",
      "   ------------------- -------------------- 6.6/13.3 MB 40.3 MB/s eta 0:00:01\n",
      "   ---------------------------------------- 13.3/13.3 MB 36.4 MB/s eta 0:00:00\n",
      "Downloading cmdstanpy-1.2.5-py3-none-any.whl (94 kB)\n",
      "Downloading holidays-0.68-py3-none-any.whl (824 kB)\n",
      "   ---------------------------------------- 0.0/824.7 kB ? eta -:--:--\n",
      "   --------------------------------------- 824.7/824.7 kB 18.1 MB/s eta 0:00:00\n",
      "Downloading importlib_resources-6.5.2-py3-none-any.whl (37 kB)\n",
      "Downloading stanio-0.5.1-py3-none-any.whl (8.1 kB)\n",
      "Installing collected packages: stanio, importlib-resources, holidays, cmdstanpy, prophet\n",
      "Successfully installed cmdstanpy-1.2.5 holidays-0.68 importlib-resources-6.5.2 prophet-1.1.6 stanio-0.5.1\n"
     ]
    },
    {
     "name": "stderr",
     "output_type": "stream",
     "text": [
      "  WARNING: The scripts install_cmdstan.exe and install_cxx_toolchain.exe are installed in 'C:\\Users\\MD\\AppData\\Roaming\\Python\\Python312\\Scripts' which is not on PATH.\n",
      "  Consider adding this directory to PATH or, if you prefer to suppress this warning, use --no-warn-script-location.\n"
     ]
    }
   ],
   "source": [
    "!pip install prophet"
   ]
  },
  {
   "cell_type": "code",
   "execution_count": 2,
   "metadata": {},
   "outputs": [],
   "source": [
    "import sys\n",
    "import os\n",
    "\n",
    "# Add the parent directory to the Python path\n",
    "sys.path.append(os.path.abspath(os.path.join(os.getcwd(), \"..\")))"
   ]
  },
  {
   "cell_type": "code",
   "execution_count": 4,
   "metadata": {},
   "outputs": [
    {
     "name": "stderr",
     "output_type": "stream",
     "text": [
      "INFO:httpx:HTTP Request: GET https://dagshub.com/api/v1/user \"HTTP/1.1 200 OK\"\n"
     ]
    },
    {
     "data": {
      "text/html": [
       "<pre style=\"white-space:pre;overflow-x:auto;line-height:normal;font-family:Menlo,'DejaVu Sans Mono',consolas,'Courier New',monospace\">Accessing as duddukuntamaneesh\n",
       "</pre>\n"
      ],
      "text/plain": [
       "Accessing as duddukuntamaneesh\n"
      ]
     },
     "metadata": {},
     "output_type": "display_data"
    },
    {
     "name": "stderr",
     "output_type": "stream",
     "text": [
      "INFO:dagshub:Accessing as duddukuntamaneesh\n",
      "INFO:httpx:HTTP Request: GET https://dagshub.com/api/v1/repos/duddukuntamaneesh/my-first-repo \"HTTP/1.1 200 OK\"\n",
      "INFO:httpx:HTTP Request: GET https://dagshub.com/api/v1/user \"HTTP/1.1 200 OK\"\n"
     ]
    },
    {
     "data": {
      "text/html": [
       "<pre style=\"white-space:pre;overflow-x:auto;line-height:normal;font-family:Menlo,'DejaVu Sans Mono',consolas,'Courier New',monospace\">Initialized MLflow to track repo <span style=\"color: #008000; text-decoration-color: #008000\">\"duddukuntamaneesh/my-first-repo\"</span>\n",
       "</pre>\n"
      ],
      "text/plain": [
       "Initialized MLflow to track repo \u001b[32m\"duddukuntamaneesh/my-first-repo\"\u001b[0m\n"
      ]
     },
     "metadata": {},
     "output_type": "display_data"
    },
    {
     "name": "stderr",
     "output_type": "stream",
     "text": [
      "INFO:dagshub:Initialized MLflow to track repo \"duddukuntamaneesh/my-first-repo\"\n"
     ]
    },
    {
     "data": {
      "text/html": [
       "<pre style=\"white-space:pre;overflow-x:auto;line-height:normal;font-family:Menlo,'DejaVu Sans Mono',consolas,'Courier New',monospace\">Repository duddukuntamaneesh/my-first-repo initialized!\n",
       "</pre>\n"
      ],
      "text/plain": [
       "Repository duddukuntamaneesh/my-first-repo initialized!\n"
      ]
     },
     "metadata": {},
     "output_type": "display_data"
    },
    {
     "name": "stderr",
     "output_type": "stream",
     "text": [
      "INFO:dagshub:Repository duddukuntamaneesh/my-first-repo initialized!\n"
     ]
    },
    {
     "name": "stdout",
     "output_type": "stream",
     "text": [
      "✅ MLflow Tracking URI: https://dagshub.com/duddukuntamaneesh/my-first-repo.mlflow\n"
     ]
    }
   ],
   "source": [
    "import os\n",
    "from dotenv import load_dotenv\n",
    "import mlflow\n",
    "import dagshub\n",
    "\n",
    "# Load environment variables\n",
    "load_dotenv()\n",
    "\n",
    "# Initialize DagsHub tracking and link it to MLflow\n",
    "dagshub.init(repo_owner=\"duddukuntamaneesh\", repo_name=\"my-first-repo\", mlflow=True)\n",
    "\n",
    "# Set the MLflow Tracking URI via Dagshub initialization\n",
    "print(\"✅ MLflow Tracking URI:\", mlflow.get_tracking_uri())\n"
   ]
  },
  {
   "cell_type": "code",
   "execution_count": 5,
   "metadata": {},
   "outputs": [
    {
     "name": "stderr",
     "output_type": "stream",
     "text": [
      "INFO:src.experiment_utils:MLflow tracking URI and credentials set.\n"
     ]
    },
    {
     "name": "stdout",
     "output_type": "stream",
     "text": [
      "Available columns: Index(['rides_t-672', 'rides_t-671', 'rides_t-670', 'rides_t-669',\n",
      "       'rides_t-668', 'rides_t-667', 'rides_t-666', 'rides_t-665',\n",
      "       'rides_t-664', 'rides_t-663',\n",
      "       ...\n",
      "       'rides_t-7', 'rides_t-6', 'rides_t-5', 'rides_t-4', 'rides_t-3',\n",
      "       'rides_t-2', 'rides_t-1', 'pickup_hour', 'pickup_location_id',\n",
      "       'target'],\n",
      "      dtype='object', length=675)\n"
     ]
    },
    {
     "name": "stderr",
     "output_type": "stream",
     "text": [
      "DEBUG:cmdstanpy:cmd: where.exe tbb.dll\n",
      "cwd: None\n",
      "DEBUG:cmdstanpy:Adding TBB (C:\\Users\\MD\\AppData\\Roaming\\Python\\Python312\\site-packages\\prophet\\stan_model\\cmdstan-2.33.1\\stan\\lib\\stan_math\\lib\\tbb) to PATH\n",
      "INFO:prophet:Disabling yearly seasonality. Run prophet with yearly_seasonality=True to override this.\n",
      "INFO:prophet:Disabling daily seasonality. Run prophet with daily_seasonality=True to override this.\n",
      "DEBUG:cmdstanpy:input tempfile: C:\\Users\\MD\\AppData\\Local\\Temp\\tmpqh44k30_\\9_201d5d.json\n",
      "DEBUG:cmdstanpy:input tempfile: C:\\Users\\MD\\AppData\\Local\\Temp\\tmpqh44k30_\\tg_ko3sv.json\n",
      "DEBUG:cmdstanpy:idx 0\n",
      "DEBUG:cmdstanpy:running CmdStan, num_threads: None\n",
      "DEBUG:cmdstanpy:CmdStan args: ['C:\\\\Users\\\\MD\\\\AppData\\\\Roaming\\\\Python\\\\Python312\\\\site-packages\\\\prophet\\\\stan_model\\\\prophet_model.bin', 'random', 'seed=4380', 'data', 'file=C:\\\\Users\\\\MD\\\\AppData\\\\Local\\\\Temp\\\\tmpqh44k30_\\\\9_201d5d.json', 'init=C:\\\\Users\\\\MD\\\\AppData\\\\Local\\\\Temp\\\\tmpqh44k30_\\\\tg_ko3sv.json', 'output', 'file=C:\\\\Users\\\\MD\\\\AppData\\\\Local\\\\Temp\\\\tmpqh44k30_\\\\prophet_modelameulnpv\\\\prophet_model-20250305163148.csv', 'method=optimize', 'algorithm=lbfgs', 'iter=10000']\n",
      "16:31:48 - cmdstanpy - INFO - Chain [1] start processing\n",
      "INFO:cmdstanpy:Chain [1] start processing\n",
      "16:31:58 - cmdstanpy - INFO - Chain [1] done processing\n",
      "INFO:cmdstanpy:Chain [1] done processing\n"
     ]
    },
    {
     "name": "stdout",
     "output_type": "stream",
     "text": [
      "📉 Mean Absolute Error (MAE): 17.76\n"
     ]
    },
    {
     "name": "stderr",
     "output_type": "stream",
     "text": [
      "2025/03/05 16:31:59 INFO mlflow.tracking.fluent: Experiment with name 'Prophet' does not exist. Creating a new experiment.\n",
      "INFO:src.experiment_utils:Experiment set to: Prophet\n",
      "INFO:src.experiment_utils:Logged mean_absolute_error: 17.75812719424949\n",
      "C:\\Users\\MD\\AppData\\Roaming\\Python\\Python312\\site-packages\\mlflow\\types\\utils.py:452: UserWarning: Hint: Inferred schema contains integer column(s). Integer columns in Python cannot represent missing values. If your input data contains missing values at inference time, it will be encoded as floats and will cause a schema enforcement error. The best way to avoid this problem is to infer the model schema based on a realistic data sample (training dataset) that includes missing values. Alternatively, you can declare integer columns as doubles (float64) whenever these columns may have missing values. See `Handling Integers With Missing Values <https://www.mlflow.org/docs/latest/models.html#handling-integers-with-missing-values>`_ for more details.\n",
      "  warnings.warn(\n",
      "INFO:src.experiment_utils:Model signature inferred.\n"
     ]
    },
    {
     "data": {
      "application/vnd.jupyter.widget-view+json": {
       "model_id": "8ee05956479e48d0a1b0c93d41dd8efa",
       "version_major": 2,
       "version_minor": 0
      },
      "text/plain": [
       "Downloading artifacts:   0%|          | 0/7 [00:00<?, ?it/s]"
      ]
     },
     "metadata": {},
     "output_type": "display_data"
    },
    {
     "name": "stderr",
     "output_type": "stream",
     "text": [
      "Successfully registered model 'Prophet'.\n",
      "2025/03/05 16:33:03 INFO mlflow.store.model_registry.abstract_store: Waiting up to 300 seconds for model version to finish creation. Model name: Prophet, version 1\n",
      "Created version '1' of model 'Prophet'.\n",
      "INFO:src.experiment_utils:Model logged with name: Prophet\n"
     ]
    },
    {
     "name": "stdout",
     "output_type": "stream",
     "text": [
      "🏃 View run unruly-midge-982 at: https://dagshub.com/duddukuntamaneesh/my-first-repo.mlflow/#/experiments/6/runs/9e003c3996fa498aaac8042cf45751b9\n",
      "🧪 View experiment at: https://dagshub.com/duddukuntamaneesh/my-first-repo.mlflow/#/experiments/6\n"
     ]
    },
    {
     "data": {
      "text/plain": [
       "<mlflow.models.model.ModelInfo at 0x19fabc7fe30>"
      ]
     },
     "execution_count": 5,
     "metadata": {},
     "output_type": "execute_result"
    }
   ],
   "source": [
    "import pandas as pd\n",
    "import matplotlib.pyplot as plt\n",
    "from prophet import Prophet\n",
    "from sklearn.metrics import mean_absolute_error\n",
    "from src.experiment_utils import set_mlflow_tracking, log_model_to_mlflow\n",
    "\n",
    "# Initialize MLflow tracking\n",
    "mlflow = set_mlflow_tracking()\n",
    "\n",
    "# Load dataset\n",
    "file_path = \"../data/transformed/tabular_data.parquet\"\n",
    "df = pd.read_parquet(file_path, engine=\"pyarrow\")\n",
    "\n",
    "# Print available columns to identify the correct ones\n",
    "print(\"Available columns:\", df.columns)\n",
    "\n",
    "# Define the correct datetime and target column names\n",
    "datetime_col = \"pickup_hour\"  # Adjust if needed\n",
    "target_col = \"target\"  # Adjust if needed\n",
    "\n",
    "# Ensure the datetime column exists\n",
    "if datetime_col not in df.columns:\n",
    "    raise KeyError(f\"❌ Column '{datetime_col}' not found! Check available columns: {df.columns}\")\n",
    "\n",
    "# Convert to datetime format if needed\n",
    "df[datetime_col] = pd.to_datetime(df[datetime_col])\n",
    "\n",
    "# Keep only relevant columns\n",
    "df = df[[datetime_col, target_col]].dropna()\n",
    "\n",
    "# Rename columns for Prophet\n",
    "df.rename(columns={datetime_col: \"ds\", target_col: \"y\"}, inplace=True)\n",
    "\n",
    "# Initialize and fit the Prophet model\n",
    "model = Prophet()\n",
    "model.fit(df)\n",
    "\n",
    "# Generate future predictions\n",
    "future = model.make_future_dataframe(periods=30, freq=\"H\")  # Forecast for the next 30 hours\n",
    "forecast = model.predict(future)\n",
    "\n",
    "# Merge actual vs predicted values where available\n",
    "merged = df.merge(forecast[['ds', 'yhat']], on='ds', how='inner')\n",
    "\n",
    "# Compute Mean Absolute Error (MAE)\n",
    "mae = mean_absolute_error(merged['y'], merged['yhat'])\n",
    "\n",
    "# Print the MAE\n",
    "print(f\"📉 Mean Absolute Error (MAE): {mae:.2f}\")\n",
    "\n",
    "log_model_to_mlflow(model, df, \"Prophet\", \"mean_absolute_error\", score=mae)"
   ]
  },
  {
   "cell_type": "code",
   "execution_count": null,
   "metadata": {},
   "outputs": [],
   "source": []
  }
 ],
 "metadata": {
  "kernelspec": {
   "display_name": "base",
   "language": "python",
   "name": "python3"
  },
  "language_info": {
   "codemirror_mode": {
    "name": "ipython",
    "version": 3
   },
   "file_extension": ".py",
   "mimetype": "text/x-python",
   "name": "python",
   "nbconvert_exporter": "python",
   "pygments_lexer": "ipython3",
   "version": "3.12.7"
  }
 },
 "nbformat": 4,
 "nbformat_minor": 2
}
